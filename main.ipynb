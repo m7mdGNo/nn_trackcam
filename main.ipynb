{
 "cells": [
  {
   "cell_type": "code",
   "execution_count": 1,
   "metadata": {},
   "outputs": [],
   "source": [
    "from detection import detect_persons\n",
    "from utils import blur_region,noise_region\n",
    "import cv2\n",
    "import numpy as np\n",
    "from ultralytics import YOLO\n",
    "import time"
   ]
  },
  {
   "cell_type": "code",
   "execution_count": 2,
   "metadata": {},
   "outputs": [],
   "source": [
    "model = YOLO('yolov8s.pt')"
   ]
  },
  {
   "cell_type": "code",
   "execution_count": 6,
   "metadata": {},
   "outputs": [],
   "source": [
    "cap = cv2.VideoCapture(\"clibs/test.mp4\")\n",
    "add_blur = False\n",
    "add_noise = False\n",
    "\n",
    "while True:\n",
    "    ret,frame = cap.read()\n",
    "    if not ret:\n",
    "        break\n",
    "\n",
    "    persons = detect_persons(model,frame)\n",
    "\n",
    "    for person in persons:\n",
    "        x1,y1,x2,y2 = person\n",
    "        cv2.rectangle(frame,(x1,y1),(x2,y2),(255,255,255),1)\n",
    "        if add_blur:\n",
    "            frame = blur_region(frame.copy(),person,99)\n",
    "        if add_noise:\n",
    "            frame = noise_region(frame.copy(),person,1)\n",
    "    \n",
    "    if add_blur:\n",
    "        cv2.putText(frame,'Blur Added press \"b\" to disable',(10,30),cv2.FONT_HERSHEY_SIMPLEX,1,(255,0,0),3)\n",
    "    else:\n",
    "        cv2.putText(frame,'No Blur press \"b\" to enable',(10,30),cv2.FONT_HERSHEY_SIMPLEX,1,(255,0,0),3)\n",
    "    if add_noise:\n",
    "        cv2.putText(frame,'Noise Added press \"n\" to disable',(10,60),cv2.FONT_HERSHEY_SIMPLEX,1,(0,255,0),3)\n",
    "    else:\n",
    "        cv2.putText(frame,'No Noise press \"n\" to enable',(10,60),cv2.FONT_HERSHEY_SIMPLEX,1,(0,255,0),3)\n",
    "    \n",
    "    cv2.imshow('frame',frame)\n",
    "\n",
    "    key = cv2.waitKey(1)\n",
    "\n",
    "    if key & 0xFF == ord('b'):\n",
    "        add_blur = not add_blur\n",
    "        time.sleep(0.1)\n",
    "\n",
    "    if key & 0xFF == ord('n'):\n",
    "        add_noise = not add_noise\n",
    "        time.sleep(0.1)\n",
    "\n",
    "    if key & 0xFF == ord('q'):\n",
    "        break\n",
    "\n",
    "cap.release()\n",
    "cv2.destroyAllWindows()"
   ]
  },
  {
   "cell_type": "code",
   "execution_count": null,
   "metadata": {},
   "outputs": [],
   "source": []
  }
 ],
 "metadata": {
  "kernelspec": {
   "display_name": "Python 3",
   "language": "python",
   "name": "python3"
  },
  "language_info": {
   "codemirror_mode": {
    "name": "ipython",
    "version": 3
   },
   "file_extension": ".py",
   "mimetype": "text/x-python",
   "name": "python",
   "nbconvert_exporter": "python",
   "pygments_lexer": "ipython3",
   "version": "3.9.7"
  },
  "orig_nbformat": 4
 },
 "nbformat": 4,
 "nbformat_minor": 2
}
